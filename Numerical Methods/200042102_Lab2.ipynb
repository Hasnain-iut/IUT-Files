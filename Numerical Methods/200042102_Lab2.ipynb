{
  "nbformat": 4,
  "nbformat_minor": 0,
  "metadata": {
    "colab": {
      "provenance": []
    },
    "kernelspec": {
      "name": "python3",
      "display_name": "Python 3"
    },
    "language_info": {
      "name": "python"
    }
  },
  "cells": [
    {
      "cell_type": "markdown",
      "metadata": {
        "id": "SChhcgB_Tkv9"
      },
      "source": [
        "# **Lab 2 : Direct method of Interpolation**<br>\n",
        "\n",
        "Interpolation is the process of estimating unknown data that lies within the range of some known data. The simplest interpolation is the **Direct method of Interpolation**. In order to interpolate unknown data, one needs to define a model that would fit the known data and based on that model, one would obtain the unknown data. This model would basically be a function that tries to satisfy the known data points. There can be various types of functions that may satisfy the same given data points, but for interpolation, we usually choose **polynomials** as interpolating functions due to the fact that polynomials are very easy to evaluate, differentiate and integrate.\n",
        "\n",
        "In today's lab, we will be implementing the Direct method of Interpolation in python. To test our implementation, we will be using the same data that we used during our class lectures. Run the following cell to load the known data points:\n"
      ]
    },
    {
      "cell_type": "code",
      "metadata": {
        "id": "rZ4tGQSjTvYF"
      },
      "source": [
        "t = [0, 10, 15, 20, 22.5, 30]\n",
        "v = [0, 227.04, 362.78, 517.35, 602.97, 901.67]"
      ],
      "execution_count": 1,
      "outputs": []
    },
    {
      "cell_type": "markdown",
      "metadata": {
        "id": "3sOLCbqJT7q0"
      },
      "source": [
        "##Task 1\n",
        "Design a utility function that will be called in the `DirectInterpolation` function. The purpose of this function will be to find the $n+1$ closest points to the unknown value $t_{new}$ where we want to interpolate the data, where $n$ is the order of the interpolating polynomial. Understand that the nearest points should be selected such that they bracket the $t_{new}$. The function to be implemented is as follows:"
      ]
    },
    {
      "cell_type": "code",
      "metadata": {
        "id": "f6HGUB7nT9k9"
      },
      "source": [
        "def NearestPoints(t, v, n, t_new):\n",
        "  #Write your implementation here\n",
        "\n",
        "  t_nearest = []\n",
        "  v_nearest = []\n",
        "  indices = []\n",
        "\n",
        "  for i in range(n+1):\n",
        "\n",
        "    diff = float('inf')\n",
        "    index = 0\n",
        "\n",
        "    for j in range(len(t)):\n",
        "\n",
        "      if j not in indices:\n",
        "        if diff > abs(t_new - t[j]):\n",
        "\n",
        "          diff = abs(t_new - t[j])\n",
        "          index = j\n",
        "\n",
        "    if index is not None:\n",
        "      indices.append(index)\n",
        "      t_nearest.append(t[index])\n",
        "      v_nearest.append(v[index])\n",
        "\n",
        "  return t_nearest, v_nearest"
      ],
      "execution_count": 29,
      "outputs": []
    },
    {
      "cell_type": "markdown",
      "source": [
        "The above function is supposed to return two vectors, say `t_nearest` and `v_nearest` consisting of $n+1$ elements each. For testing how the function works, we can print the data and see what we are getting. If our implementation is correct, then we should be getting $[15], [362.78]$ for $n=0$. Run the following cell to check this:"
      ],
      "metadata": {
        "id": "w25YRkvd9XEh"
      }
    },
    {
      "cell_type": "code",
      "source": [
        "n = 0\n",
        "t_new = 16\n",
        "\n",
        "t_nearest, v_nearest = NearestPoints(t, v, n, t_new)\n",
        "print(t_nearest)\n",
        "print(v_nearest)"
      ],
      "metadata": {
        "id": "FSo0cJ1TkmRN",
        "colab": {
          "base_uri": "https://localhost:8080/"
        },
        "outputId": "ca9b0d12-6088-46b0-97eb-519f9c7c0e3d"
      },
      "execution_count": 30,
      "outputs": [
        {
          "output_type": "stream",
          "name": "stdout",
          "text": [
            "[15]\n",
            "[362.78]\n"
          ]
        }
      ]
    },
    {
      "cell_type": "code",
      "source": [
        "n = 1\n",
        "t_new = 16\n",
        "\n",
        "t_nearest, v_nearest = NearestPoints(t, v, n, t_new)\n",
        "print(t_nearest)\n",
        "print(v_nearest)"
      ],
      "metadata": {
        "id": "z5SN6pQj9Z7Q",
        "colab": {
          "base_uri": "https://localhost:8080/"
        },
        "outputId": "05934877-3b01-4ca7-ebb9-328b9906c61c"
      },
      "execution_count": 31,
      "outputs": [
        {
          "output_type": "stream",
          "name": "stdout",
          "text": [
            "[15, 20]\n",
            "[362.78, 517.35]\n"
          ]
        }
      ]
    },
    {
      "cell_type": "markdown",
      "source": [
        "The output for $n=1$ should be $[15, 20], [362.78, 517.35]$"
      ],
      "metadata": {
        "id": "JdaIx97ljwYk"
      }
    },
    {
      "cell_type": "code",
      "source": [
        "n = 2\n",
        "t_new = 16\n",
        "\n",
        "t_nearest, v_nearest = NearestPoints(t, v, n, t_new)\n",
        "print(t_nearest)\n",
        "print(v_nearest)"
      ],
      "metadata": {
        "id": "hOb4TMsTkBjs",
        "colab": {
          "base_uri": "https://localhost:8080/"
        },
        "outputId": "78f0f149-6727-40b7-aa6d-001a16f93056"
      },
      "execution_count": 32,
      "outputs": [
        {
          "output_type": "stream",
          "name": "stdout",
          "text": [
            "[15, 20, 10]\n",
            "[362.78, 517.35, 227.04]\n"
          ]
        }
      ]
    },
    {
      "cell_type": "markdown",
      "source": [
        "The output for $n=2$ should be $[15, 20, 10], [362.78, 517.35, 227.04]$"
      ],
      "metadata": {
        "id": "KzFR4QO8kFRn"
      }
    },
    {
      "cell_type": "markdown",
      "metadata": {
        "id": "Z6sc0ZNUUGNk"
      },
      "source": [
        "## Task 2\n",
        "Now your task is to design a generalized function that takes the given data as parameters as well as the order $n$ of the polynomial and uses the *Direct Interpolation* method to interpolate the unknown data at $t_{new}$. The following cell contains the function to be implemented:"
      ]
    },
    {
      "cell_type": "code",
      "metadata": {
        "id": "zHadfasm8dUF"
      },
      "source": [
        "import numpy as np\n",
        "def DirectInterpolation(t, v, n, t_new):\n",
        "    #Write your implementation here.\n",
        "\n",
        "    t_nearest, v_nearest = NearestPoints(t, v, n, t_new)\n",
        "\n",
        "    A = np.zeros((n+1, n+1))\n",
        "\n",
        "    for i in range(n+1):\n",
        "      for j in range(n+1):\n",
        "\n",
        "        A[i][j] = t_nearest[i] ** j\n",
        "\n",
        "\n",
        "    B = np.array(v_nearest)\n",
        "\n",
        "    x = np.linalg.solve(A, B)\n",
        "\n",
        "    return x\n",
        "\n",
        "def eval(f, t_new):\n",
        "    #Write your implementation here.\n",
        "\n",
        "    result = 0\n",
        "\n",
        "    for i in range(len(f)):\n",
        "      result += f[i] * (t_new**i)\n",
        "\n",
        "    return result\n",
        ""
      ],
      "execution_count": 39,
      "outputs": []
    },
    {
      "cell_type": "markdown",
      "metadata": {
        "id": "t1yWM5V18cA2"
      },
      "source": [
        "Note that the above function will at first need to find a number of closest points to the unknown data $t_{new}$, and this number will vary depending on the order $n$ of the polynomial that we want to use as the interpolating function. So you will have to call the function you implemented in Task 1 inside this function."
      ]
    },
    {
      "cell_type": "code",
      "source": [
        "print(eval(DirectInterpolation(t, v, 1, 16), 16))"
      ],
      "metadata": {
        "id": "91g2Q0pTm0Ds",
        "colab": {
          "base_uri": "https://localhost:8080/"
        },
        "outputId": "9191b2ac-1094-4e81-c154-f4cb2c758f24"
      },
      "execution_count": 40,
      "outputs": [
        {
          "output_type": "stream",
          "name": "stdout",
          "text": [
            "393.69399999999996\n"
          ]
        }
      ]
    },
    {
      "cell_type": "markdown",
      "source": [
        "For $n=1$, we should get $v(16) = 393.7ms^{-1}$."
      ],
      "metadata": {
        "id": "kb6DPOAmnIq7"
      }
    },
    {
      "cell_type": "code",
      "source": [
        "print(eval(DirectInterpolation(t, v, 2, 16), 16))"
      ],
      "metadata": {
        "id": "dqVSikEhnERc",
        "colab": {
          "base_uri": "https://localhost:8080/"
        },
        "outputId": "61b74727-785f-4797-9fc8-ffbf0d3cb80e"
      },
      "execution_count": 42,
      "outputs": [
        {
          "output_type": "stream",
          "name": "stdout",
          "text": [
            "392.1876\n"
          ]
        }
      ]
    },
    {
      "cell_type": "markdown",
      "source": [
        "For $n=2$, we should get $v(16) = 392.19ms^{-1}$."
      ],
      "metadata": {
        "id": "4eCg93mknX20"
      }
    },
    {
      "cell_type": "code",
      "source": [
        "print(eval(DirectInterpolation(t, v, 3, 16), 16))"
      ],
      "metadata": {
        "id": "eabSBX2WnEsS",
        "colab": {
          "base_uri": "https://localhost:8080/"
        },
        "outputId": "cbe2610a-d240-4e3d-bf13-47b4c96ab5bf"
      },
      "execution_count": 43,
      "outputs": [
        {
          "output_type": "stream",
          "name": "stdout",
          "text": [
            "392.05716799999993\n"
          ]
        }
      ]
    },
    {
      "cell_type": "markdown",
      "source": [
        "For $n=2$, we should get $v(16) = 392.06ms^{-1}$."
      ],
      "metadata": {
        "id": "GvFpwbNmnez_"
      }
    },
    {
      "cell_type": "markdown",
      "metadata": {
        "id": "rcyU1bzM9u3g"
      },
      "source": [
        "##Task 3\n",
        "Now, test the function using different order of polynomials, setting $n = 1, 2,$ and $3$ and so on and print the absolute relative approximate error at each step. Also generate a plot of Order $(n)$ vs Relative Approximate Error $(|\\epsilon_a|\\%)$. In case you do not remember how graphs can be plotted in Python, here is a sample code showing how to do it using the `matplotlib` library."
      ]
    },
    {
      "cell_type": "code",
      "metadata": {
        "id": "HcPhTbIu_sn4",
        "colab": {
          "base_uri": "https://localhost:8080/",
          "height": 472
        },
        "outputId": "c155059e-9b23-4ae6-f7e9-b17d58043b2e"
      },
      "source": [
        "import numpy as np\n",
        "import matplotlib.pyplot as plt\n",
        "\n",
        "iters = np.arange(0, 5) #start=0, stop=5, and since no step is given, so default step=1\n",
        "vals = np.arange(100, 200, 20) #start=100, stop=200, step=20\n",
        "\n",
        "plt.plot(iters, vals)\n",
        "plt.title(\"Iterations vs values plot\")\n",
        "plt.xlabel(\"Iteration\")\n",
        "plt.ylabel(\"Value\")\n",
        "plt.show()"
      ],
      "execution_count": 44,
      "outputs": [
        {
          "output_type": "display_data",
          "data": {
            "text/plain": [
              "<Figure size 640x480 with 1 Axes>"
            ],
            "image/png": "[encoded data removed]"
          },
          "metadata": {}
        }
      ]
    },
    {
      "cell_type": "code",
      "source": [
        "# Write your code here for finding the relative approximate errors for different orders of the polynomial\n",
        "\n",
        "def relative_approximate_errors(order):\n",
        "  app_errors = []\n",
        "  f_prev = 0\n",
        "  f_new = 0\n",
        "  for i in range(1, order+1):\n",
        "\n",
        "    f_new = eval( DirectInterpolation(t, v, i, 16), 16 )\n",
        "\n",
        "    if i != 1:\n",
        "      app_errors.append( (abs(f_new - f_prev)/f_new)* 100 )\n",
        "\n",
        "    f_prev = f_new\n",
        "\n",
        "  return app_errors\n",
        "\n",
        "errs = relative_approximate_errors(5)\n",
        "print(errs)\n",
        "vals = [2, 3, 4, 5]\n",
        "\n",
        "plt.plot(vals, errs)\n",
        "plt.title(\"Iterations vs Approximation error\")\n",
        "plt.xlabel(\"Iteration\")\n",
        "plt.ylabel(\"Approximate error\")\n",
        "plt.show()\n"
      ],
      "metadata": {
        "id": "YDxTWEDA_PzH",
        "colab": {
          "base_uri": "https://localhost:8080/",
          "height": 489
        },
        "outputId": "f9a95780-e9a3-45ad-a6ce-3d6350d242b2"
      },
      "execution_count": 57,
      "outputs": [
        {
          "output_type": "stream",
          "name": "stdout",
          "text": [
            "[0.3841018940935372, 0.03326861760120699, 0.004219342657274461, 0.0007988402971966851]\n"
          ]
        },
        {
          "output_type": "display_data",
          "data": {
            "text/plain": [
              "<Figure size 640x480 with 1 Axes>"
            ],
            "image/png": "[encoded data removed]"
          },
          "metadata": {}
        }
      ]
    },
    {
      "cell_type": "markdown",
      "source": [
        "##Task 4\n",
        "Now, write a function for evaluating the acceleration at $t = 16$"
      ],
      "metadata": {
        "id": "TQaze05x-0B6"
      }
    },
    {
      "cell_type": "code",
      "source": [
        "#implement the acceleration function\n",
        "def acceleration(f, t_new):\n",
        "  # write your code here\n",
        "  derivative = 0\n",
        "  #print(f)\n",
        "  for i in range(1, len(f)):\n",
        "    derivative += i * (f[i]) * (t_new ** (i-1))\n",
        "    #print(derivative)\n",
        "  return derivative\n",
        "\n"
      ],
      "metadata": {
        "id": "M3Vhtwnu-99O"
      },
      "execution_count": 90,
      "outputs": []
    },
    {
      "cell_type": "code",
      "source": [
        "print(acceleration(DirectInterpolation(t, v, 2, 16), 16))"
      ],
      "metadata": {
        "colab": {
          "base_uri": "https://localhost:8080/"
        },
        "id": "8ZbGZutFF70t",
        "outputId": "a002ed30-098a-424d-9403-ff137e4821bc"
      },
      "execution_count": 91,
      "outputs": [
        {
          "output_type": "stream",
          "name": "stdout",
          "text": [
            "29.784200000000006\n"
          ]
        }
      ]
    },
    {
      "cell_type": "code",
      "source": [],
      "metadata": {
        "id": "4O05SpV5M5ip"
      },
      "execution_count": null,
      "outputs": []
    }
  ]
}