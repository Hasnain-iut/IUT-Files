{
  "nbformat": 4,
  "nbformat_minor": 0,
  "metadata": {
    "colab": {
      "provenance": []
    },
    "kernelspec": {
      "name": "python3",
      "display_name": "Python 3"
    },
    "language_info": {
      "name": "python"
    }
  },
  "cells": [
    {
      "cell_type": "code",
      "execution_count": 72,
      "metadata": {
        "id": "fKYBa4m94yoQ"
      },
      "outputs": [],
      "source": [
        "import numpy as np\n",
        "import pandas as pd"
      ]
    },
    {
      "cell_type": "markdown",
      "source": [
        "**Task 1**\n",
        "Creating a numpy array"
      ],
      "metadata": {
        "id": "5y7wdLQB6kRq"
      }
    },
    {
      "cell_type": "code",
      "source": [
        "arr = np.array([1,2,3,4,5,6,7,8,9,10]) #create an array\n",
        "print(arr)"
      ],
      "metadata": {
        "colab": {
          "base_uri": "https://localhost:8080/"
        },
        "id": "dwP0AUHe6oZx",
        "outputId": "5f1da70f-bdd1-4b43-d4b0-41a8df88a4ca"
      },
      "execution_count": 2,
      "outputs": [
        {
          "output_type": "stream",
          "name": "stdout",
          "text": [
            "[ 1  2  3  4  5  6  7  8  9 10]\n"
          ]
        }
      ]
    },
    {
      "cell_type": "markdown",
      "source": [
        "**Task 2** Creating a array of size (7,6), reshape to (3,4)"
      ],
      "metadata": {
        "id": "Qa-aYa6Y69Zy"
      }
    },
    {
      "cell_type": "code",
      "source": [
        "arr = np.random.randint(30, size=(7,6)) #random integers upto 30\n",
        "print(arr)"
      ],
      "metadata": {
        "colab": {
          "base_uri": "https://localhost:8080/"
        },
        "id": "UfWetsun67dx",
        "outputId": "9d5e8bbc-efe7-4f66-ed81-05c80a0399f4"
      },
      "execution_count": 4,
      "outputs": [
        {
          "output_type": "stream",
          "name": "stdout",
          "text": [
            "[[ 3 18 25 19 16  5]\n",
            " [20 23  0 23 26 21]\n",
            " [18 19  0 24  9 11]\n",
            " [ 0  7 12 11 14  5]\n",
            " [21  1 25  0 12 10]\n",
            " [14 15 16 26 11 27]\n",
            " [ 1 10  6 20 23  2]]\n"
          ]
        }
      ]
    },
    {
      "cell_type": "code",
      "source": [
        "arr = arr.reshape(3, 14) #changing shape of a matrix\n",
        "print(arr)"
      ],
      "metadata": {
        "colab": {
          "base_uri": "https://localhost:8080/"
        },
        "id": "oA7FIfGM7Vw6",
        "outputId": "aaf464ca-a12f-42d0-fb31-738b5e53567c"
      },
      "execution_count": 7,
      "outputs": [
        {
          "output_type": "stream",
          "name": "stdout",
          "text": [
            "[[ 3 18 25 19 16  5 20 23  0 23 26 21 18 19]\n",
            " [ 0 24  9 11  0  7 12 11 14  5 21  1 25  0]\n",
            " [12 10 14 15 16 26 11 27  1 10  6 20 23  2]]\n"
          ]
        }
      ]
    },
    {
      "cell_type": "markdown",
      "source": [
        "**Task 3** Extract odd numbers from an array"
      ],
      "metadata": {
        "id": "o2nJH9Bd7yja"
      }
    },
    {
      "cell_type": "code",
      "source": [
        "arr = np.array([1,2,3,4,5,6,7,8,9,10])\n",
        "odd = arr[arr%2 != 0] #Only those values which fulfils a certain condition\n",
        "print(odd)"
      ],
      "metadata": {
        "colab": {
          "base_uri": "https://localhost:8080/"
        },
        "id": "fa4I7Srm7mKQ",
        "outputId": "beb55159-dc74-46be-bec2-2fdaa239c969"
      },
      "execution_count": 13,
      "outputs": [
        {
          "output_type": "stream",
          "name": "stdout",
          "text": [
            "[1 3 5 7 9]\n"
          ]
        }
      ]
    },
    {
      "cell_type": "markdown",
      "source": [
        "**Task 4** Make all odd numbers to -1 of the previous array"
      ],
      "metadata": {
        "id": "DSK4NyEc8hmr"
      }
    },
    {
      "cell_type": "code",
      "source": [
        "arr[arr%2 !=0] = -1 # Set values to -1 which fulfils a specific condition\n",
        "print(arr)"
      ],
      "metadata": {
        "colab": {
          "base_uri": "https://localhost:8080/"
        },
        "id": "6fYdXEar8N4B",
        "outputId": "71c01449-bfb5-4aaa-ed8d-aecc76ae7835"
      },
      "execution_count": 14,
      "outputs": [
        {
          "output_type": "stream",
          "name": "stdout",
          "text": [
            "[-1  2 -1  4 -1  6 -1  8 -1 10]\n"
          ]
        }
      ]
    },
    {
      "cell_type": "markdown",
      "source": [
        "**Task 5** Make odd numbers to -1 without affecting original array"
      ],
      "metadata": {
        "id": "e8Zyk-Sf9GBq"
      }
    },
    {
      "cell_type": "code",
      "source": [
        "arr = np.array([1,2,3,4,5,6,7,8,9,10])\n",
        "out = np.array(arr)\n",
        "out[out%2 != 0] = -1\n",
        "\n",
        "print(out)\n",
        "print(arr)"
      ],
      "metadata": {
        "colab": {
          "base_uri": "https://localhost:8080/"
        },
        "id": "2bQAXCwT8yNS",
        "outputId": "b1a5aa87-74cf-4de2-b7e6-5fd0d9b10a92"
      },
      "execution_count": 21,
      "outputs": [
        {
          "output_type": "stream",
          "name": "stdout",
          "text": [
            "[-1  2 -1  4 -1  6 -1  8 -1 10]\n",
            "[ 1  2  3  4  5  6  7  8  9 10]\n"
          ]
        }
      ]
    },
    {
      "cell_type": "markdown",
      "source": [
        "**Task 6** Positions where elements of two array matches"
      ],
      "metadata": {
        "id": "GCBjJMte-X0j"
      }
    },
    {
      "cell_type": "code",
      "source": [
        "a = np.array([1,2,3, 2,3,4,3,4,5,6])\n",
        "b = np.array([7,2,10,2,7,4,9,4,9,8])\n",
        "\n",
        "print(np.where(a==b)) #np.where returns indices instead of values"
      ],
      "metadata": {
        "colab": {
          "base_uri": "https://localhost:8080/"
        },
        "id": "Zk6otBQ99Yty",
        "outputId": "0bbe09ff-738a-4e99-db9b-760fadaaaf44"
      },
      "execution_count": 25,
      "outputs": [
        {
          "output_type": "stream",
          "name": "stdout",
          "text": [
            "(array([1, 3, 5, 7]),)\n"
          ]
        }
      ]
    },
    {
      "cell_type": "markdown",
      "source": [
        "**Task 7** Get all the items between 5 and 10 from array"
      ],
      "metadata": {
        "id": "mQt_ttjY_k5k"
      }
    },
    {
      "cell_type": "code",
      "source": [
        "a = np.array([2, 6, 1, 9, 10, 3, 27])\n",
        "print(a[(a>=5) & (a<=10)]) # Using conditionals to return values"
      ],
      "metadata": {
        "colab": {
          "base_uri": "https://localhost:8080/"
        },
        "id": "IXFHpbVd-m5x",
        "outputId": "55a78ccd-1f12-45c1-a726-d08fa9d529e0"
      },
      "execution_count": 31,
      "outputs": [
        {
          "output_type": "stream",
          "name": "stdout",
          "text": [
            "[ 6  9 10]\n"
          ]
        }
      ]
    },
    {
      "cell_type": "markdown",
      "source": [
        "**Task 8**"
      ],
      "metadata": {
        "id": "ClsS3rBaASct"
      }
    },
    {
      "cell_type": "code",
      "source": [
        "a = np.zeros((10,1)) # Create vector of 0s\n",
        "b = np.ones((10,1)) # Create vector of only 1s\n",
        "\n",
        "c = np.concatenate((a,b)) # Merge these two vectors\n",
        "\n",
        "a = a.reshape((1,10))\n",
        "b = b.reshape((1,10))\n",
        "\n",
        "d = np.concatenate((a,b), axis=1)\n",
        "\n",
        "print(c)\n",
        "print(d)"
      ],
      "metadata": {
        "colab": {
          "base_uri": "https://localhost:8080/"
        },
        "id": "lZt47zBx_rwi",
        "outputId": "1c7c6024-44a8-4c1e-d9f5-7caf2d33af1a"
      },
      "execution_count": 49,
      "outputs": [
        {
          "output_type": "stream",
          "name": "stdout",
          "text": [
            "[[0.]\n",
            " [0.]\n",
            " [0.]\n",
            " [0.]\n",
            " [0.]\n",
            " [0.]\n",
            " [0.]\n",
            " [0.]\n",
            " [0.]\n",
            " [0.]\n",
            " [1.]\n",
            " [1.]\n",
            " [1.]\n",
            " [1.]\n",
            " [1.]\n",
            " [1.]\n",
            " [1.]\n",
            " [1.]\n",
            " [1.]\n",
            " [1.]]\n",
            "[[0. 0. 0. 0. 0. 0. 0. 0. 0. 0. 1. 1. 1. 1. 1. 1. 1. 1. 1. 1.]]\n"
          ]
        }
      ]
    },
    {
      "cell_type": "markdown",
      "source": [
        "**Task 9**"
      ],
      "metadata": {
        "id": "1Y1bGideC7Qs"
      }
    },
    {
      "cell_type": "code",
      "source": [
        "arr = np.random.randint(20, size=(5,4)) # Random numbers upto 20\n",
        "\n",
        "print(arr)"
      ],
      "metadata": {
        "colab": {
          "base_uri": "https://localhost:8080/"
        },
        "id": "fWGzbN03AhLz",
        "outputId": "47370946-6304-440e-83ac-db85efe5b735"
      },
      "execution_count": 56,
      "outputs": [
        {
          "output_type": "stream",
          "name": "stdout",
          "text": [
            "[[15  8  2 13]\n",
            " [ 5  9  5 14]\n",
            " [18  1 17  4]\n",
            " [11 12 18 15]\n",
            " [16  6 11  6]]\n"
          ]
        }
      ]
    },
    {
      "cell_type": "markdown",
      "source": [
        "**Task 10**"
      ],
      "metadata": {
        "id": "JYisMZA4FUrl"
      }
    },
    {
      "cell_type": "code",
      "source": [
        "n_samples = 5\n",
        "n_features = 4\n",
        "\n",
        "x = np.random.rand(n_samples, n_features)\n",
        "y= np.random.randint(0, 2, n_samples)\n",
        "\n",
        "print('x = ', x)\n",
        "print('y = ', y)"
      ],
      "metadata": {
        "colab": {
          "base_uri": "https://localhost:8080/"
        },
        "id": "H2e-1qEQDhtD",
        "outputId": "212fa96d-69cf-4de8-ac66-22011c644861"
      },
      "execution_count": 58,
      "outputs": [
        {
          "output_type": "stream",
          "name": "stdout",
          "text": [
            "x =  [[0.85073446 0.59045558 0.43225619 0.28739913]\n",
            " [0.19347084 0.72141075 0.14461338 0.92385652]\n",
            " [0.69558492 0.27385302 0.64470238 0.30709304]\n",
            " [0.91080484 0.54285877 0.18983894 0.35646871]\n",
            " [0.90988524 0.43007488 0.60326433 0.82517265]]\n",
            "y =  [1 0 0 1 1]\n"
          ]
        }
      ]
    },
    {
      "cell_type": "markdown",
      "source": [
        "**Task 11**"
      ],
      "metadata": {
        "id": "BTFQWQylGSQm"
      }
    },
    {
      "cell_type": "code",
      "source": [
        "def extract_subset(x, y, y0):\n",
        "  return x[y == y0]   # Extract rows of same indices which matches y with y0\n",
        "\n",
        "print(extract_subset(x,y,0))"
      ],
      "metadata": {
        "colab": {
          "base_uri": "https://localhost:8080/"
        },
        "id": "wbh80olvGJbD",
        "outputId": "95b6b9c9-b9a6-4b32-f7da-3d5b6da1ef3a"
      },
      "execution_count": 88,
      "outputs": [
        {
          "output_type": "stream",
          "name": "stdout",
          "text": [
            "[[0.19347084 0.72141075 0.14461338 0.92385652]\n",
            " [0.69558492 0.27385302 0.64470238 0.30709304]]\n"
          ]
        }
      ]
    },
    {
      "cell_type": "markdown",
      "source": [
        "**Task 12**"
      ],
      "metadata": {
        "id": "QbIm8805HjGI"
      }
    },
    {
      "cell_type": "code",
      "source": [
        "url = \"https://raw.githubusercontent.com/uiuc-cse/data-fa14/gh-pages/data/iris.csv\"\n",
        "data = np.genfromtxt(url, delimiter=\",\", skip_header=1)\n",
        "data"
      ],
      "metadata": {
        "colab": {
          "base_uri": "https://localhost:8080/"
        },
        "id": "_0QMhod_Gy0k",
        "outputId": "64df24cb-07bc-4afa-cdf8-e26dd2ae6aa1"
      },
      "execution_count": 96,
      "outputs": [
        {
          "output_type": "execute_result",
          "data": {
            "text/plain": [
              "array([[5.1, 3.5, 1.4, 0.2, nan],\n",
              "       [4.9, 3. , 1.4, 0.2, nan],\n",
              "       [4.7, 3.2, 1.3, 0.2, nan],\n",
              "       [4.6, 3.1, 1.5, 0.2, nan],\n",
              "       [5. , 3.6, 1.4, 0.2, nan],\n",
              "       [5.4, 3.9, 1.7, 0.4, nan],\n",
              "       [4.6, 3.4, 1.4, 0.3, nan],\n",
              "       [5. , 3.4, 1.5, 0.2, nan],\n",
              "       [4.4, 2.9, 1.4, 0.2, nan],\n",
              "       [4.9, 3.1, 1.5, 0.1, nan],\n",
              "       [5.4, 3.7, 1.5, 0.2, nan],\n",
              "       [4.8, 3.4, 1.6, 0.2, nan],\n",
              "       [4.8, 3. , 1.4, 0.1, nan],\n",
              "       [4.3, 3. , 1.1, 0.1, nan],\n",
              "       [5.8, 4. , 1.2, 0.2, nan],\n",
              "       [5.7, 4.4, 1.5, 0.4, nan],\n",
              "       [5.4, 3.9, 1.3, 0.4, nan],\n",
              "       [5.1, 3.5, 1.4, 0.3, nan],\n",
              "       [5.7, 3.8, 1.7, 0.3, nan],\n",
              "       [5.1, 3.8, 1.5, 0.3, nan],\n",
              "       [5.4, 3.4, 1.7, 0.2, nan],\n",
              "       [5.1, 3.7, 1.5, 0.4, nan],\n",
              "       [4.6, 3.6, 1. , 0.2, nan],\n",
              "       [5.1, 3.3, 1.7, 0.5, nan],\n",
              "       [4.8, 3.4, 1.9, 0.2, nan],\n",
              "       [5. , 3. , 1.6, 0.2, nan],\n",
              "       [5. , 3.4, 1.6, 0.4, nan],\n",
              "       [5.2, 3.5, 1.5, 0.2, nan],\n",
              "       [5.2, 3.4, 1.4, 0.2, nan],\n",
              "       [4.7, 3.2, 1.6, 0.2, nan],\n",
              "       [4.8, 3.1, 1.6, 0.2, nan],\n",
              "       [5.4, 3.4, 1.5, 0.4, nan],\n",
              "       [5.2, 4.1, 1.5, 0.1, nan],\n",
              "       [5.5, 4.2, 1.4, 0.2, nan],\n",
              "       [4.9, 3.1, 1.5, 0.1, nan],\n",
              "       [5. , 3.2, 1.2, 0.2, nan],\n",
              "       [5.5, 3.5, 1.3, 0.2, nan],\n",
              "       [4.9, 3.1, 1.5, 0.1, nan],\n",
              "       [4.4, 3. , 1.3, 0.2, nan],\n",
              "       [5.1, 3.4, 1.5, 0.2, nan],\n",
              "       [5. , 3.5, 1.3, 0.3, nan],\n",
              "       [4.5, 2.3, 1.3, 0.3, nan],\n",
              "       [4.4, 3.2, 1.3, 0.2, nan],\n",
              "       [5. , 3.5, 1.6, 0.6, nan],\n",
              "       [5.1, 3.8, 1.9, 0.4, nan],\n",
              "       [4.8, 3. , 1.4, 0.3, nan],\n",
              "       [5.1, 3.8, 1.6, 0.2, nan],\n",
              "       [4.6, 3.2, 1.4, 0.2, nan],\n",
              "       [5.3, 3.7, 1.5, 0.2, nan],\n",
              "       [5. , 3.3, 1.4, 0.2, nan],\n",
              "       [7. , 3.2, 4.7, 1.4, nan],\n",
              "       [6.4, 3.2, 4.5, 1.5, nan],\n",
              "       [6.9, 3.1, 4.9, 1.5, nan],\n",
              "       [5.5, 2.3, 4. , 1.3, nan],\n",
              "       [6.5, 2.8, 4.6, 1.5, nan],\n",
              "       [5.7, 2.8, 4.5, 1.3, nan],\n",
              "       [6.3, 3.3, 4.7, 1.6, nan],\n",
              "       [4.9, 2.4, 3.3, 1. , nan],\n",
              "       [6.6, 2.9, 4.6, 1.3, nan],\n",
              "       [5.2, 2.7, 3.9, 1.4, nan],\n",
              "       [5. , 2. , 3.5, 1. , nan],\n",
              "       [5.9, 3. , 4.2, 1.5, nan],\n",
              "       [6. , 2.2, 4. , 1. , nan],\n",
              "       [6.1, 2.9, 4.7, 1.4, nan],\n",
              "       [5.6, 2.9, 3.6, 1.3, nan],\n",
              "       [6.7, 3.1, 4.4, 1.4, nan],\n",
              "       [5.6, 3. , 4.5, 1.5, nan],\n",
              "       [5.8, 2.7, 4.1, 1. , nan],\n",
              "       [6.2, 2.2, 4.5, 1.5, nan],\n",
              "       [5.6, 2.5, 3.9, 1.1, nan],\n",
              "       [5.9, 3.2, 4.8, 1.8, nan],\n",
              "       [6.1, 2.8, 4. , 1.3, nan],\n",
              "       [6.3, 2.5, 4.9, 1.5, nan],\n",
              "       [6.1, 2.8, 4.7, 1.2, nan],\n",
              "       [6.4, 2.9, 4.3, 1.3, nan],\n",
              "       [6.6, 3. , 4.4, 1.4, nan],\n",
              "       [6.8, 2.8, 4.8, 1.4, nan],\n",
              "       [6.7, 3. , 5. , 1.7, nan],\n",
              "       [6. , 2.9, 4.5, 1.5, nan],\n",
              "       [5.7, 2.6, 3.5, 1. , nan],\n",
              "       [5.5, 2.4, 3.8, 1.1, nan],\n",
              "       [5.5, 2.4, 3.7, 1. , nan],\n",
              "       [5.8, 2.7, 3.9, 1.2, nan],\n",
              "       [6. , 2.7, 5.1, 1.6, nan],\n",
              "       [5.4, 3. , 4.5, 1.5, nan],\n",
              "       [6. , 3.4, 4.5, 1.6, nan],\n",
              "       [6.7, 3.1, 4.7, 1.5, nan],\n",
              "       [6.3, 2.3, 4.4, 1.3, nan],\n",
              "       [5.6, 3. , 4.1, 1.3, nan],\n",
              "       [5.5, 2.5, 4. , 1.3, nan],\n",
              "       [5.5, 2.6, 4.4, 1.2, nan],\n",
              "       [6.1, 3. , 4.6, 1.4, nan],\n",
              "       [5.8, 2.6, 4. , 1.2, nan],\n",
              "       [5. , 2.3, 3.3, 1. , nan],\n",
              "       [5.6, 2.7, 4.2, 1.3, nan],\n",
              "       [5.7, 3. , 4.2, 1.2, nan],\n",
              "       [5.7, 2.9, 4.2, 1.3, nan],\n",
              "       [6.2, 2.9, 4.3, 1.3, nan],\n",
              "       [5.1, 2.5, 3. , 1.1, nan],\n",
              "       [5.7, 2.8, 4.1, 1.3, nan],\n",
              "       [6.3, 3.3, 6. , 2.5, nan],\n",
              "       [5.8, 2.7, 5.1, 1.9, nan],\n",
              "       [7.1, 3. , 5.9, 2.1, nan],\n",
              "       [6.3, 2.9, 5.6, 1.8, nan],\n",
              "       [6.5, 3. , 5.8, 2.2, nan],\n",
              "       [7.6, 3. , 6.6, 2.1, nan],\n",
              "       [4.9, 2.5, 4.5, 1.7, nan],\n",
              "       [7.3, 2.9, 6.3, 1.8, nan],\n",
              "       [6.7, 2.5, 5.8, 1.8, nan],\n",
              "       [7.2, 3.6, 6.1, 2.5, nan],\n",
              "       [6.5, 3.2, 5.1, 2. , nan],\n",
              "       [6.4, 2.7, 5.3, 1.9, nan],\n",
              "       [6.8, 3. , 5.5, 2.1, nan],\n",
              "       [5.7, 2.5, 5. , 2. , nan],\n",
              "       [5.8, 2.8, 5.1, 2.4, nan],\n",
              "       [6.4, 3.2, 5.3, 2.3, nan],\n",
              "       [6.5, 3. , 5.5, 1.8, nan],\n",
              "       [7.7, 3.8, 6.7, 2.2, nan],\n",
              "       [7.7, 2.6, 6.9, 2.3, nan],\n",
              "       [6. , 2.2, 5. , 1.5, nan],\n",
              "       [6.9, 3.2, 5.7, 2.3, nan],\n",
              "       [5.6, 2.8, 4.9, 2. , nan],\n",
              "       [7.7, 2.8, 6.7, 2. , nan],\n",
              "       [6.3, 2.7, 4.9, 1.8, nan],\n",
              "       [6.7, 3.3, 5.7, 2.1, nan],\n",
              "       [7.2, 3.2, 6. , 1.8, nan],\n",
              "       [6.2, 2.8, 4.8, 1.8, nan],\n",
              "       [6.1, 3. , 4.9, 1.8, nan],\n",
              "       [6.4, 2.8, 5.6, 2.1, nan],\n",
              "       [7.2, 3. , 5.8, 1.6, nan],\n",
              "       [7.4, 2.8, 6.1, 1.9, nan],\n",
              "       [7.9, 3.8, 6.4, 2. , nan],\n",
              "       [6.4, 2.8, 5.6, 2.2, nan],\n",
              "       [6.3, 2.8, 5.1, 1.5, nan],\n",
              "       [6.1, 2.6, 5.6, 1.4, nan],\n",
              "       [7.7, 3. , 6.1, 2.3, nan],\n",
              "       [6.3, 3.4, 5.6, 2.4, nan],\n",
              "       [6.4, 3.1, 5.5, 1.8, nan],\n",
              "       [6. , 3. , 4.8, 1.8, nan],\n",
              "       [6.9, 3.1, 5.4, 2.1, nan],\n",
              "       [6.7, 3.1, 5.6, 2.4, nan],\n",
              "       [6.9, 3.1, 5.1, 2.3, nan],\n",
              "       [5.8, 2.7, 5.1, 1.9, nan],\n",
              "       [6.8, 3.2, 5.9, 2.3, nan],\n",
              "       [6.7, 3.3, 5.7, 2.5, nan],\n",
              "       [6.7, 3. , 5.2, 2.3, nan],\n",
              "       [6.3, 2.5, 5. , 1.9, nan],\n",
              "       [6.5, 3. , 5.2, 2. , nan],\n",
              "       [6.2, 3.4, 5.4, 2.3, nan],\n",
              "       [5.9, 3. , 5.1, 1.8, nan]])"
            ]
          },
          "metadata": {},
          "execution_count": 96
        }
      ]
    },
    {
      "cell_type": "code",
      "source": [
        "column = data[:, 0]\n",
        "mean = np.mean(column)  # Command for mean\n",
        "median = np.median(column) # Command for median\n",
        "standard_deviation = np.std(column) # Command for standard deviation\n",
        "print(mean)\n",
        "print(median)\n",
        "print(standard_deviation)"
      ],
      "metadata": {
        "colab": {
          "base_uri": "https://localhost:8080/"
        },
        "id": "Px77J1mbHxAF",
        "outputId": "e9a5b613-fe73-4761-a606-76ba599f84b1"
      },
      "execution_count": 97,
      "outputs": [
        {
          "output_type": "stream",
          "name": "stdout",
          "text": [
            "5.843333333333334\n",
            "5.8\n",
            "0.8253012917851409\n"
          ]
        }
      ]
    },
    {
      "cell_type": "code",
      "source": [],
      "metadata": {
        "id": "mPFmJQCFLI_W"
      },
      "execution_count": 96,
      "outputs": []
    },
    {
      "cell_type": "code",
      "source": [],
      "metadata": {
        "id": "cfwPp4kcNnc4"
      },
      "execution_count": null,
      "outputs": []
    }
  ]
}